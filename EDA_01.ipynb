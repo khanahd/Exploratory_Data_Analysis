{
 "cells": [
  {
   "cell_type": "markdown",
   "metadata": {},
   "source": [
    "## Exploratory Data Analysis using Python pandas and SQLite"
   ]
  },
  {
   "cell_type": "markdown",
   "metadata": {},
   "source": [
    "#### Step 1\n",
    "Importing the Libraries\n",
    "1. pandas\n",
    "2. sqlite3"
   ]
  },
  {
   "cell_type": "code",
   "execution_count": null,
   "metadata": {},
   "outputs": [],
   "source": [
    "import pandas as pd\n",
    "import sqlite3\n",
    "print('Import Done')"
   ]
  },
  {
   "cell_type": "markdown",
   "metadata": {},
   "source": [
    "#### Step 2 \n",
    "Establish a connection with a Database\n",
    "Name the DB as edaTest.db\n",
    "\n",
    "Load the SQL magic module"
   ]
  },
  {
   "cell_type": "code",
   "execution_count": null,
   "metadata": {},
   "outputs": [],
   "source": [
    "# setting the connection\n",
    "conn = sqlite3.connect('edaTest.db')"
   ]
  },
  {
   "cell_type": "code",
   "execution_count": null,
   "metadata": {},
   "outputs": [],
   "source": [
    "# load magic module\n",
    "%load_ext sql"
   ]
  },
  {
   "cell_type": "markdown",
   "metadata": {},
   "source": [
    "#### Step 3\n",
    "Use pandas to read the data from the link/file saved on your system.\n",
    "Use these dataframes to data to the database with a table name"
   ]
  },
  {
   "cell_type": "code",
   "execution_count": null,
   "metadata": {},
   "outputs": [],
   "source": [
    "s_file_path = 'D:/Desktop/Shaalimar/01_Files/L5_EDA with Python and SQL Lite/laptop_pricing_dataset.csv'\n",
    "df = pd.read_csv(s_file_path)\n",
    "\n",
    "# loading data to db\n",
    "df.to_sql('tblMain',conn)"
   ]
  },
  {
   "cell_type": "markdown",
   "metadata": {},
   "source": [
    "#### Step 4\n",
    "Establish a connection between SQL magic module and the database"
   ]
  },
  {
   "cell_type": "code",
   "execution_count": null,
   "metadata": {},
   "outputs": [],
   "source": [
    "%sql sqlite://edaTest.db"
   ]
  },
  {
   "cell_type": "markdown",
   "metadata": {},
   "source": [
    "### Problems"
   ]
  },
  {
   "cell_type": "markdown",
   "metadata": {},
   "source": [
    "Q1> SELECT ALL DISTINCT NAMES OF THE MANUFACTURERS"
   ]
  },
  {
   "cell_type": "code",
   "execution_count": null,
   "metadata": {},
   "outputs": [],
   "source": []
  },
  {
   "cell_type": "markdown",
   "metadata": {},
   "source": [
    "Q2> WHERE MANUFATURER IS EITHER HP OR DELL"
   ]
  },
  {
   "cell_type": "code",
   "execution_count": null,
   "metadata": {},
   "outputs": [],
   "source": []
  },
  {
   "cell_type": "markdown",
   "metadata": {},
   "source": [
    "Q3> GROUP THE DATA BY MANUFACTURERS AND FIND OUT THE TOTAL UNITS MANUFACTORED BY EACH."
   ]
  },
  {
   "cell_type": "code",
   "execution_count": null,
   "metadata": {},
   "outputs": [],
   "source": []
  },
  {
   "cell_type": "markdown",
   "metadata": {},
   "source": [
    "Q4> NUMBER OF LAPTOPS WHERE STORAGE IS MORE THAN 128 GB GROUPED BY MANUFACTURER NAME"
   ]
  },
  {
   "cell_type": "code",
   "execution_count": null,
   "metadata": {},
   "outputs": [],
   "source": []
  },
  {
   "cell_type": "markdown",
   "metadata": {},
   "source": [
    "Q5> WHERE WEIGH OF THE LAPTOP IS BETWEEN 2KG AND LESS THAN 3 KG, WRITE QUERIES BOTH FOR INCLUDING THE LIMITS AND EXCLUDING THE LIMITS"
   ]
  },
  {
   "cell_type": "code",
   "execution_count": null,
   "metadata": {},
   "outputs": [],
   "source": []
  },
  {
   "cell_type": "markdown",
   "metadata": {},
   "source": [
    "Q6> NUMBER OF LAPTOPS PRODUCED WHERE MANUFATURER IS DELL, WEIGHT IS LESS THAN 3KGS AND PRICE IS MORE THAN 1000 USD"
   ]
  },
  {
   "cell_type": "code",
   "execution_count": null,
   "metadata": {},
   "outputs": [],
   "source": []
  }
 ],
 "metadata": {
  "language_info": {
   "name": "python"
  }
 },
 "nbformat": 4,
 "nbformat_minor": 2
}
